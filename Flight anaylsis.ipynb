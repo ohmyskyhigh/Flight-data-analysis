{
 "cells": [
  {
   "cell_type": "code",
   "execution_count": 1,
   "metadata": {
    "collapsed": true
   },
   "outputs": [],
   "source": [
    "import numpy as np\n",
    "import pandas as pd"
   ]
  },
  {
   "cell_type": "code",
   "execution_count": 2,
   "metadata": {
    "collapsed": true
   },
   "outputs": [],
   "source": [
    "##open test file\n",
    "data_path = \"test.csv\"\n",
    "test = pd.read_csv(data_path)"
   ]
  },
  {
   "cell_type": "code",
   "execution_count": 3,
   "metadata": {},
   "outputs": [
    {
     "name": "stdout",
     "output_type": "stream",
     "text": [
      "(344, 10)\n"
     ]
    },
    {
     "data": {
      "text/html": [
       "<div>\n",
       "<table border=\"1\" class=\"dataframe\">\n",
       "  <thead>\n",
       "    <tr style=\"text-align: right;\">\n",
       "      <th></th>\n",
       "      <th>Roll Kalman (deg)</th>\n",
       "      <th>Pitch Kalman (deg)</th>\n",
       "      <th>temp (C)</th>\n",
       "      <th>altit (m)</th>\n",
       "      <th>Time (s)</th>\n",
       "      <th>Gear</th>\n",
       "      <th>Latitude</th>\n",
       "      <th>Longitude</th>\n",
       "      <th>Speed (mps)</th>\n",
       "      <th>Time (HHMMSSCC)</th>\n",
       "    </tr>\n",
       "  </thead>\n",
       "  <tbody>\n",
       "    <tr>\n",
       "      <th>0</th>\n",
       "      <td>-32.76</td>\n",
       "      <td>-33.63</td>\n",
       "      <td>19</td>\n",
       "      <td>1.35</td>\n",
       "      <td>645.21</td>\n",
       "      <td>0</td>\n",
       "      <td>NaN</td>\n",
       "      <td>NaN</td>\n",
       "      <td>NaN</td>\n",
       "      <td>NaN</td>\n",
       "    </tr>\n",
       "    <tr>\n",
       "      <th>1</th>\n",
       "      <td>****</td>\n",
       "      <td>****</td>\n",
       "      <td>****</td>\n",
       "      <td>****</td>\n",
       "      <td>****</td>\n",
       "      <td>****</td>\n",
       "      <td>50.953853</td>\n",
       "      <td>-1.362635</td>\n",
       "      <td>12.55</td>\n",
       "      <td>17041100.0</td>\n",
       "    </tr>\n",
       "    <tr>\n",
       "      <th>2</th>\n",
       "      <td>-25.39</td>\n",
       "      <td>-17.72</td>\n",
       "      <td>19</td>\n",
       "      <td>1.6</td>\n",
       "      <td>646.22</td>\n",
       "      <td>0</td>\n",
       "      <td>NaN</td>\n",
       "      <td>NaN</td>\n",
       "      <td>NaN</td>\n",
       "      <td>NaN</td>\n",
       "    </tr>\n",
       "    <tr>\n",
       "      <th>3</th>\n",
       "      <td>****</td>\n",
       "      <td>****</td>\n",
       "      <td>****</td>\n",
       "      <td>****</td>\n",
       "      <td>****</td>\n",
       "      <td>****</td>\n",
       "      <td>50.953853</td>\n",
       "      <td>-1.362635</td>\n",
       "      <td>12.55</td>\n",
       "      <td>17041100.0</td>\n",
       "    </tr>\n",
       "    <tr>\n",
       "      <th>4</th>\n",
       "      <td>-9.11</td>\n",
       "      <td>-7.15</td>\n",
       "      <td>18.9</td>\n",
       "      <td>3.74</td>\n",
       "      <td>647.23</td>\n",
       "      <td>0</td>\n",
       "      <td>NaN</td>\n",
       "      <td>NaN</td>\n",
       "      <td>NaN</td>\n",
       "      <td>NaN</td>\n",
       "    </tr>\n",
       "  </tbody>\n",
       "</table>\n",
       "</div>"
      ],
      "text/plain": [
       "  Roll Kalman (deg) Pitch Kalman (deg) temp (C) altit (m) Time (s)  Gear  \\\n",
       "0            -32.76             -33.63       19      1.35   645.21     0   \n",
       "1              ****               ****     ****      ****     ****  ****   \n",
       "2            -25.39             -17.72       19       1.6   646.22     0   \n",
       "3              ****               ****     ****      ****     ****  ****   \n",
       "4             -9.11              -7.15     18.9      3.74   647.23     0   \n",
       "\n",
       "    Latitude  Longitude  Speed (mps)  Time (HHMMSSCC)  \n",
       "0        NaN        NaN          NaN              NaN  \n",
       "1  50.953853  -1.362635        12.55       17041100.0  \n",
       "2        NaN        NaN          NaN              NaN  \n",
       "3  50.953853  -1.362635        12.55       17041100.0  \n",
       "4        NaN        NaN          NaN              NaN  "
      ]
     },
     "execution_count": 3,
     "metadata": {},
     "output_type": "execute_result"
    }
   ],
   "source": [
    "##show first five rows of the data\n",
    "print(test.shape)\n",
    "test.head()"
   ]
  },
  {
   "cell_type": "code",
   "execution_count": 4,
   "metadata": {},
   "outputs": [
    {
     "data": {
      "text/html": [
       "<div>\n",
       "<table border=\"1\" class=\"dataframe\">\n",
       "  <thead>\n",
       "    <tr style=\"text-align: right;\">\n",
       "      <th></th>\n",
       "      <th>Roll Kalman (deg)</th>\n",
       "      <th>Pitch Kalman (deg)</th>\n",
       "      <th>temp (C)</th>\n",
       "      <th>altit (m)</th>\n",
       "      <th>Time (s)</th>\n",
       "      <th>Gear</th>\n",
       "    </tr>\n",
       "  </thead>\n",
       "  <tbody>\n",
       "    <tr>\n",
       "      <th>0</th>\n",
       "      <td>-32.76</td>\n",
       "      <td>-33.63</td>\n",
       "      <td>19</td>\n",
       "      <td>1.35</td>\n",
       "      <td>645.21</td>\n",
       "      <td>0</td>\n",
       "    </tr>\n",
       "    <tr>\n",
       "      <th>1</th>\n",
       "      <td>****</td>\n",
       "      <td>****</td>\n",
       "      <td>****</td>\n",
       "      <td>****</td>\n",
       "      <td>****</td>\n",
       "      <td>****</td>\n",
       "    </tr>\n",
       "    <tr>\n",
       "      <th>2</th>\n",
       "      <td>-25.39</td>\n",
       "      <td>-17.72</td>\n",
       "      <td>19</td>\n",
       "      <td>1.6</td>\n",
       "      <td>646.22</td>\n",
       "      <td>0</td>\n",
       "    </tr>\n",
       "    <tr>\n",
       "      <th>3</th>\n",
       "      <td>****</td>\n",
       "      <td>****</td>\n",
       "      <td>****</td>\n",
       "      <td>****</td>\n",
       "      <td>****</td>\n",
       "      <td>****</td>\n",
       "    </tr>\n",
       "    <tr>\n",
       "      <th>4</th>\n",
       "      <td>-9.11</td>\n",
       "      <td>-7.15</td>\n",
       "      <td>18.9</td>\n",
       "      <td>3.74</td>\n",
       "      <td>647.23</td>\n",
       "      <td>0</td>\n",
       "    </tr>\n",
       "  </tbody>\n",
       "</table>\n",
       "</div>"
      ],
      "text/plain": [
       "  Roll Kalman (deg) Pitch Kalman (deg) temp (C) altit (m) Time (s)  Gear\n",
       "0            -32.76             -33.63       19      1.35   645.21     0\n",
       "1              ****               ****     ****      ****     ****  ****\n",
       "2            -25.39             -17.72       19       1.6   646.22     0\n",
       "3              ****               ****     ****      ****     ****  ****\n",
       "4             -9.11              -7.15     18.9      3.74   647.23     0"
      ]
     },
     "execution_count": 4,
     "metadata": {},
     "output_type": "execute_result"
    }
   ],
   "source": [
    "#split data into two objects, one is sensors value and another one is GPS values\n",
    "sensor = test.ix[:, 0:6]\n",
    "sensor.head()"
   ]
  },
  {
   "cell_type": "code",
   "execution_count": 5,
   "metadata": {},
   "outputs": [
    {
     "data": {
      "text/html": [
       "<div>\n",
       "<table border=\"1\" class=\"dataframe\">\n",
       "  <thead>\n",
       "    <tr style=\"text-align: right;\">\n",
       "      <th></th>\n",
       "      <th>Latitude</th>\n",
       "      <th>Longitude</th>\n",
       "      <th>Speed (mps)</th>\n",
       "      <th>Time (HHMMSSCC)</th>\n",
       "    </tr>\n",
       "  </thead>\n",
       "  <tbody>\n",
       "    <tr>\n",
       "      <th>0</th>\n",
       "      <td>NaN</td>\n",
       "      <td>NaN</td>\n",
       "      <td>NaN</td>\n",
       "      <td>NaN</td>\n",
       "    </tr>\n",
       "    <tr>\n",
       "      <th>1</th>\n",
       "      <td>50.953853</td>\n",
       "      <td>-1.362635</td>\n",
       "      <td>12.55</td>\n",
       "      <td>17041100.0</td>\n",
       "    </tr>\n",
       "    <tr>\n",
       "      <th>2</th>\n",
       "      <td>NaN</td>\n",
       "      <td>NaN</td>\n",
       "      <td>NaN</td>\n",
       "      <td>NaN</td>\n",
       "    </tr>\n",
       "    <tr>\n",
       "      <th>3</th>\n",
       "      <td>50.953853</td>\n",
       "      <td>-1.362635</td>\n",
       "      <td>12.55</td>\n",
       "      <td>17041100.0</td>\n",
       "    </tr>\n",
       "    <tr>\n",
       "      <th>4</th>\n",
       "      <td>NaN</td>\n",
       "      <td>NaN</td>\n",
       "      <td>NaN</td>\n",
       "      <td>NaN</td>\n",
       "    </tr>\n",
       "  </tbody>\n",
       "</table>\n",
       "</div>"
      ],
      "text/plain": [
       "    Latitude  Longitude  Speed (mps)  Time (HHMMSSCC)\n",
       "0        NaN        NaN          NaN              NaN\n",
       "1  50.953853  -1.362635        12.55       17041100.0\n",
       "2        NaN        NaN          NaN              NaN\n",
       "3  50.953853  -1.362635        12.55       17041100.0\n",
       "4        NaN        NaN          NaN              NaN"
      ]
     },
     "execution_count": 5,
     "metadata": {},
     "output_type": "execute_result"
    }
   ],
   "source": [
    "#GPS values\n",
    "GPS = test.ix[:, 6:10]\n",
    "GPS.head()"
   ]
  },
  {
   "cell_type": "code",
   "execution_count": 6,
   "metadata": {
    "collapsed": true
   },
   "outputs": [],
   "source": [
    "##drop every row with Nan value\n",
    "dfG = pd.DataFrame(data=GPS)\n",
    "GPS_new = dfG.dropna()"
   ]
  },
  {
   "cell_type": "code",
   "execution_count": 7,
   "metadata": {},
   "outputs": [
    {
     "data": {
      "text/html": [
       "<div>\n",
       "<table border=\"1\" class=\"dataframe\">\n",
       "  <thead>\n",
       "    <tr style=\"text-align: right;\">\n",
       "      <th></th>\n",
       "      <th>Latitude</th>\n",
       "      <th>Longitude</th>\n",
       "      <th>Speed (mps)</th>\n",
       "      <th>Time (HHMMSSCC)</th>\n",
       "    </tr>\n",
       "  </thead>\n",
       "  <tbody>\n",
       "    <tr>\n",
       "      <th>1</th>\n",
       "      <td>50.953853</td>\n",
       "      <td>-1.362635</td>\n",
       "      <td>12.55</td>\n",
       "      <td>17041100.0</td>\n",
       "    </tr>\n",
       "    <tr>\n",
       "      <th>3</th>\n",
       "      <td>50.953853</td>\n",
       "      <td>-1.362635</td>\n",
       "      <td>12.55</td>\n",
       "      <td>17041100.0</td>\n",
       "    </tr>\n",
       "    <tr>\n",
       "      <th>5</th>\n",
       "      <td>50.953853</td>\n",
       "      <td>-1.362635</td>\n",
       "      <td>12.55</td>\n",
       "      <td>17041100.0</td>\n",
       "    </tr>\n",
       "    <tr>\n",
       "      <th>7</th>\n",
       "      <td>50.953853</td>\n",
       "      <td>-1.362635</td>\n",
       "      <td>12.55</td>\n",
       "      <td>17041100.0</td>\n",
       "    </tr>\n",
       "    <tr>\n",
       "      <th>9</th>\n",
       "      <td>50.953853</td>\n",
       "      <td>-1.362635</td>\n",
       "      <td>12.55</td>\n",
       "      <td>17041100.0</td>\n",
       "    </tr>\n",
       "  </tbody>\n",
       "</table>\n",
       "</div>"
      ],
      "text/plain": [
       "    Latitude  Longitude  Speed (mps)  Time (HHMMSSCC)\n",
       "1  50.953853  -1.362635        12.55       17041100.0\n",
       "3  50.953853  -1.362635        12.55       17041100.0\n",
       "5  50.953853  -1.362635        12.55       17041100.0\n",
       "7  50.953853  -1.362635        12.55       17041100.0\n",
       "9  50.953853  -1.362635        12.55       17041100.0"
      ]
     },
     "execution_count": 7,
     "metadata": {},
     "output_type": "execute_result"
    }
   ],
   "source": [
    "GPS_new.head()"
   ]
  },
  {
   "cell_type": "code",
   "execution_count": 8,
   "metadata": {
    "collapsed": true
   },
   "outputs": [],
   "source": [
    "##drop star rows\n",
    "dfs = pd.DataFrame(data=sensor)\n",
    "sensor_new = dfs.iloc[::2, :]"
   ]
  },
  {
   "cell_type": "code",
   "execution_count": 9,
   "metadata": {
    "scrolled": false
   },
   "outputs": [
    {
     "data": {
      "text/html": [
       "<div>\n",
       "<table border=\"1\" class=\"dataframe\">\n",
       "  <thead>\n",
       "    <tr style=\"text-align: right;\">\n",
       "      <th></th>\n",
       "      <th>Roll Kalman (deg)</th>\n",
       "      <th>Pitch Kalman (deg)</th>\n",
       "      <th>temp (C)</th>\n",
       "      <th>altit (m)</th>\n",
       "      <th>Time (s)</th>\n",
       "      <th>Gear</th>\n",
       "    </tr>\n",
       "  </thead>\n",
       "  <tbody>\n",
       "    <tr>\n",
       "      <th>0</th>\n",
       "      <td>-32.76</td>\n",
       "      <td>-33.63</td>\n",
       "      <td>19</td>\n",
       "      <td>1.35</td>\n",
       "      <td>645.21</td>\n",
       "      <td>0</td>\n",
       "    </tr>\n",
       "    <tr>\n",
       "      <th>2</th>\n",
       "      <td>-25.39</td>\n",
       "      <td>-17.72</td>\n",
       "      <td>19</td>\n",
       "      <td>1.6</td>\n",
       "      <td>646.22</td>\n",
       "      <td>0</td>\n",
       "    </tr>\n",
       "    <tr>\n",
       "      <th>4</th>\n",
       "      <td>-9.11</td>\n",
       "      <td>-7.15</td>\n",
       "      <td>18.9</td>\n",
       "      <td>3.74</td>\n",
       "      <td>647.23</td>\n",
       "      <td>0</td>\n",
       "    </tr>\n",
       "    <tr>\n",
       "      <th>6</th>\n",
       "      <td>-22.52</td>\n",
       "      <td>2.1</td>\n",
       "      <td>18.9</td>\n",
       "      <td>4.98</td>\n",
       "      <td>648.24</td>\n",
       "      <td>0</td>\n",
       "    </tr>\n",
       "    <tr>\n",
       "      <th>8</th>\n",
       "      <td>-10.68</td>\n",
       "      <td>-31.94</td>\n",
       "      <td>18.9</td>\n",
       "      <td>5.31</td>\n",
       "      <td>649.25</td>\n",
       "      <td>0</td>\n",
       "    </tr>\n",
       "  </tbody>\n",
       "</table>\n",
       "</div>"
      ],
      "text/plain": [
       "  Roll Kalman (deg) Pitch Kalman (deg) temp (C) altit (m) Time (s) Gear\n",
       "0            -32.76             -33.63       19      1.35   645.21    0\n",
       "2            -25.39             -17.72       19       1.6   646.22    0\n",
       "4             -9.11              -7.15     18.9      3.74   647.23    0\n",
       "6            -22.52                2.1     18.9      4.98   648.24    0\n",
       "8            -10.68             -31.94     18.9      5.31   649.25    0"
      ]
     },
     "execution_count": 9,
     "metadata": {},
     "output_type": "execute_result"
    }
   ],
   "source": [
    "sensor_new.head()"
   ]
  },
  {
   "cell_type": "markdown",
   "metadata": {},
   "source": [
    "the data indexs are no long successive, we need to reindex them"
   ]
  },
  {
   "cell_type": "code",
   "execution_count": 10,
   "metadata": {
    "scrolled": true
   },
   "outputs": [
    {
     "name": "stdout",
     "output_type": "stream",
     "text": [
      "172\n",
      "172\n"
     ]
    }
   ],
   "source": [
    "total_row, total_column = pd.DataFrame(data=sensor_new).shape\n",
    "print(total_row)\n",
    "print(len(range(total_row)))\n",
    "dfs = pd.DataFrame(data=sensor_new)\n",
    "dfG = pd.DataFrame(data=GPS_new)\n",
    "rows = list(range(total_row))\n",
    "\n",
    "##assign new index to sensor dataframe\n",
    "dfs['nindex'] = rows\n",
    "sensor1 = dfs.set_index('nindex')\n",
    "sensor1.index.name = None\n",
    "\n",
    "##assign new index to GPS dataframe\n",
    "dfG['nindex'] = rows\n",
    "GPS1 = dfG.set_index('nindex')\n",
    "GPS1.index.name = None"
   ]
  },
  {
   "cell_type": "code",
   "execution_count": 11,
   "metadata": {},
   "outputs": [
    {
     "data": {
      "text/html": [
       "<div>\n",
       "<table border=\"1\" class=\"dataframe\">\n",
       "  <thead>\n",
       "    <tr style=\"text-align: right;\">\n",
       "      <th></th>\n",
       "      <th>Roll Kalman (deg)</th>\n",
       "      <th>Pitch Kalman (deg)</th>\n",
       "      <th>temp (C)</th>\n",
       "      <th>altit (m)</th>\n",
       "      <th>Time (s)</th>\n",
       "      <th>Gear</th>\n",
       "    </tr>\n",
       "  </thead>\n",
       "  <tbody>\n",
       "    <tr>\n",
       "      <th>0</th>\n",
       "      <td>-32.76</td>\n",
       "      <td>-33.63</td>\n",
       "      <td>19</td>\n",
       "      <td>1.35</td>\n",
       "      <td>645.21</td>\n",
       "      <td>0</td>\n",
       "    </tr>\n",
       "    <tr>\n",
       "      <th>1</th>\n",
       "      <td>-25.39</td>\n",
       "      <td>-17.72</td>\n",
       "      <td>19</td>\n",
       "      <td>1.6</td>\n",
       "      <td>646.22</td>\n",
       "      <td>0</td>\n",
       "    </tr>\n",
       "    <tr>\n",
       "      <th>2</th>\n",
       "      <td>-9.11</td>\n",
       "      <td>-7.15</td>\n",
       "      <td>18.9</td>\n",
       "      <td>3.74</td>\n",
       "      <td>647.23</td>\n",
       "      <td>0</td>\n",
       "    </tr>\n",
       "    <tr>\n",
       "      <th>3</th>\n",
       "      <td>-22.52</td>\n",
       "      <td>2.1</td>\n",
       "      <td>18.9</td>\n",
       "      <td>4.98</td>\n",
       "      <td>648.24</td>\n",
       "      <td>0</td>\n",
       "    </tr>\n",
       "    <tr>\n",
       "      <th>4</th>\n",
       "      <td>-10.68</td>\n",
       "      <td>-31.94</td>\n",
       "      <td>18.9</td>\n",
       "      <td>5.31</td>\n",
       "      <td>649.25</td>\n",
       "      <td>0</td>\n",
       "    </tr>\n",
       "  </tbody>\n",
       "</table>\n",
       "</div>"
      ],
      "text/plain": [
       "  Roll Kalman (deg) Pitch Kalman (deg) temp (C) altit (m) Time (s) Gear\n",
       "0            -32.76             -33.63       19      1.35   645.21    0\n",
       "1            -25.39             -17.72       19       1.6   646.22    0\n",
       "2             -9.11              -7.15     18.9      3.74   647.23    0\n",
       "3            -22.52                2.1     18.9      4.98   648.24    0\n",
       "4            -10.68             -31.94     18.9      5.31   649.25    0"
      ]
     },
     "execution_count": 11,
     "metadata": {},
     "output_type": "execute_result"
    }
   ],
   "source": [
    "sensor1.head()"
   ]
  },
  {
   "cell_type": "code",
   "execution_count": 12,
   "metadata": {},
   "outputs": [
    {
     "data": {
      "text/html": [
       "<div>\n",
       "<table border=\"1\" class=\"dataframe\">\n",
       "  <thead>\n",
       "    <tr style=\"text-align: right;\">\n",
       "      <th></th>\n",
       "      <th>Latitude</th>\n",
       "      <th>Longitude</th>\n",
       "      <th>Speed (mps)</th>\n",
       "      <th>Time (HHMMSSCC)</th>\n",
       "    </tr>\n",
       "  </thead>\n",
       "  <tbody>\n",
       "    <tr>\n",
       "      <th>0</th>\n",
       "      <td>50.953853</td>\n",
       "      <td>-1.362635</td>\n",
       "      <td>12.55</td>\n",
       "      <td>17041100.0</td>\n",
       "    </tr>\n",
       "    <tr>\n",
       "      <th>1</th>\n",
       "      <td>50.953853</td>\n",
       "      <td>-1.362635</td>\n",
       "      <td>12.55</td>\n",
       "      <td>17041100.0</td>\n",
       "    </tr>\n",
       "    <tr>\n",
       "      <th>2</th>\n",
       "      <td>50.953853</td>\n",
       "      <td>-1.362635</td>\n",
       "      <td>12.55</td>\n",
       "      <td>17041100.0</td>\n",
       "    </tr>\n",
       "    <tr>\n",
       "      <th>3</th>\n",
       "      <td>50.953853</td>\n",
       "      <td>-1.362635</td>\n",
       "      <td>12.55</td>\n",
       "      <td>17041100.0</td>\n",
       "    </tr>\n",
       "    <tr>\n",
       "      <th>4</th>\n",
       "      <td>50.953853</td>\n",
       "      <td>-1.362635</td>\n",
       "      <td>12.55</td>\n",
       "      <td>17041100.0</td>\n",
       "    </tr>\n",
       "  </tbody>\n",
       "</table>\n",
       "</div>"
      ],
      "text/plain": [
       "    Latitude  Longitude  Speed (mps)  Time (HHMMSSCC)\n",
       "0  50.953853  -1.362635        12.55       17041100.0\n",
       "1  50.953853  -1.362635        12.55       17041100.0\n",
       "2  50.953853  -1.362635        12.55       17041100.0\n",
       "3  50.953853  -1.362635        12.55       17041100.0\n",
       "4  50.953853  -1.362635        12.55       17041100.0"
      ]
     },
     "execution_count": 12,
     "metadata": {},
     "output_type": "execute_result"
    }
   ],
   "source": [
    "GPS1.head()"
   ]
  },
  {
   "cell_type": "code",
   "execution_count": 15,
   "metadata": {
    "collapsed": true
   },
   "outputs": [],
   "source": [
    "dfs = pd.DataFrame(data=sensor1)\n",
    "dfG = pd.DataFrame(data=GPS1)\n",
    "##combine two dataframe together into one\n",
    "result = pd.concat([dfs, dfG], axis=1, join_axes=[dfs.index])"
   ]
  },
  {
   "cell_type": "code",
   "execution_count": 16,
   "metadata": {},
   "outputs": [
    {
     "data": {
      "text/html": [
       "<div>\n",
       "<table border=\"1\" class=\"dataframe\">\n",
       "  <thead>\n",
       "    <tr style=\"text-align: right;\">\n",
       "      <th></th>\n",
       "      <th>Roll Kalman (deg)</th>\n",
       "      <th>Pitch Kalman (deg)</th>\n",
       "      <th>temp (C)</th>\n",
       "      <th>altit (m)</th>\n",
       "      <th>Time (s)</th>\n",
       "      <th>Gear</th>\n",
       "      <th>Latitude</th>\n",
       "      <th>Longitude</th>\n",
       "      <th>Speed (mps)</th>\n",
       "      <th>Time (HHMMSSCC)</th>\n",
       "    </tr>\n",
       "  </thead>\n",
       "  <tbody>\n",
       "    <tr>\n",
       "      <th>0</th>\n",
       "      <td>-32.76</td>\n",
       "      <td>-33.63</td>\n",
       "      <td>19</td>\n",
       "      <td>1.35</td>\n",
       "      <td>645.21</td>\n",
       "      <td>0</td>\n",
       "      <td>50.953853</td>\n",
       "      <td>-1.362635</td>\n",
       "      <td>12.55</td>\n",
       "      <td>17041100.0</td>\n",
       "    </tr>\n",
       "    <tr>\n",
       "      <th>1</th>\n",
       "      <td>-25.39</td>\n",
       "      <td>-17.72</td>\n",
       "      <td>19</td>\n",
       "      <td>1.6</td>\n",
       "      <td>646.22</td>\n",
       "      <td>0</td>\n",
       "      <td>50.953853</td>\n",
       "      <td>-1.362635</td>\n",
       "      <td>12.55</td>\n",
       "      <td>17041100.0</td>\n",
       "    </tr>\n",
       "    <tr>\n",
       "      <th>2</th>\n",
       "      <td>-9.11</td>\n",
       "      <td>-7.15</td>\n",
       "      <td>18.9</td>\n",
       "      <td>3.74</td>\n",
       "      <td>647.23</td>\n",
       "      <td>0</td>\n",
       "      <td>50.953853</td>\n",
       "      <td>-1.362635</td>\n",
       "      <td>12.55</td>\n",
       "      <td>17041100.0</td>\n",
       "    </tr>\n",
       "    <tr>\n",
       "      <th>3</th>\n",
       "      <td>-22.52</td>\n",
       "      <td>2.1</td>\n",
       "      <td>18.9</td>\n",
       "      <td>4.98</td>\n",
       "      <td>648.24</td>\n",
       "      <td>0</td>\n",
       "      <td>50.953853</td>\n",
       "      <td>-1.362635</td>\n",
       "      <td>12.55</td>\n",
       "      <td>17041100.0</td>\n",
       "    </tr>\n",
       "    <tr>\n",
       "      <th>4</th>\n",
       "      <td>-10.68</td>\n",
       "      <td>-31.94</td>\n",
       "      <td>18.9</td>\n",
       "      <td>5.31</td>\n",
       "      <td>649.25</td>\n",
       "      <td>0</td>\n",
       "      <td>50.953853</td>\n",
       "      <td>-1.362635</td>\n",
       "      <td>12.55</td>\n",
       "      <td>17041100.0</td>\n",
       "    </tr>\n",
       "  </tbody>\n",
       "</table>\n",
       "</div>"
      ],
      "text/plain": [
       "  Roll Kalman (deg) Pitch Kalman (deg) temp (C) altit (m) Time (s) Gear  \\\n",
       "0            -32.76             -33.63       19      1.35   645.21    0   \n",
       "1            -25.39             -17.72       19       1.6   646.22    0   \n",
       "2             -9.11              -7.15     18.9      3.74   647.23    0   \n",
       "3            -22.52                2.1     18.9      4.98   648.24    0   \n",
       "4            -10.68             -31.94     18.9      5.31   649.25    0   \n",
       "\n",
       "    Latitude  Longitude  Speed (mps)  Time (HHMMSSCC)  \n",
       "0  50.953853  -1.362635        12.55       17041100.0  \n",
       "1  50.953853  -1.362635        12.55       17041100.0  \n",
       "2  50.953853  -1.362635        12.55       17041100.0  \n",
       "3  50.953853  -1.362635        12.55       17041100.0  \n",
       "4  50.953853  -1.362635        12.55       17041100.0  "
      ]
     },
     "execution_count": 16,
     "metadata": {},
     "output_type": "execute_result"
    }
   ],
   "source": [
    "result.head()"
   ]
  },
  {
   "cell_type": "markdown",
   "metadata": {},
   "source": [
    "get our happy data"
   ]
  },
  {
   "cell_type": "code",
   "execution_count": 18,
   "metadata": {},
   "outputs": [],
   "source": [
    "pd.DataFrame(data=result).to_csv('clean_test.csv')"
   ]
  },
  {
   "cell_type": "code",
   "execution_count": null,
   "metadata": {
    "collapsed": true
   },
   "outputs": [],
   "source": []
  }
 ],
 "metadata": {
  "kernelspec": {
   "display_name": "Python 3",
   "language": "python",
   "name": "python3"
  },
  "language_info": {
   "codemirror_mode": {
    "name": "ipython",
    "version": 3
   },
   "file_extension": ".py",
   "mimetype": "text/x-python",
   "name": "python",
   "nbconvert_exporter": "python",
   "pygments_lexer": "ipython3",
   "version": "3.5.3"
  }
 },
 "nbformat": 4,
 "nbformat_minor": 2
}
